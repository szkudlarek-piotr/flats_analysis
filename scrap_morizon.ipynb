{
 "cells": [
  {
   "cell_type": "code",
   "execution_count": 3,
   "id": "e6860745-94fa-46d6-bd9a-3f8818416ec9",
   "metadata": {},
   "outputs": [
    {
     "name": "stdout",
     "output_type": "stream",
     "text": [
      "Imports loaded!\n"
     ]
    }
   ],
   "source": [
    "import numpy as np\n",
    "import pandas as pd\n",
    "from bs4 import BeautifulSoup\n",
    "import requests as req\n",
    "import os\n",
    "import matplotlib.pyplot as plt\n",
    "print(\"Imports loaded!\")"
   ]
  },
  {
   "cell_type": "code",
   "execution_count": 4,
   "id": "dae32494-082b-4dc1-9b6c-7e5d86ca2695",
   "metadata": {},
   "outputs": [
    {
     "name": "stdout",
     "output_type": "stream",
     "text": [
      "Jednego z mieszkań nie udało się zbadać.\n",
      "Jednego z mieszkań nie udało się zbadać.\n",
      "Jednego z mieszkań nie udało się zbadać.\n",
      "Jednego z mieszkań nie udało się zbadać.\n"
     ]
    }
   ],
   "source": [
    "import datetime\n",
    "test_adress = \"https://www.morizon.pl/mieszkania/warszawa/wlochy/?ps%5Blocation%5D%5Btext_queue%5D%5B0%5D=Warszawa%20W%C5%82ochy&ps%5Blocation%5D%5Btext_queue%5D%5B1%5D=Warszawa%20Ursus&ps%5Blocation%5D%5Btext_queue%5D%5B2%5D=Warszawa%20Bemowo&ps%5Blocation%5D%5Bmap%5D=1&ps%5Blocation%5D%5Bmap_bounds%5D=52.280490899999,20.998632463328:52.140518099999,20.842100236674&ps%5Bnumber_of_rooms_from%5D=2&ps%5Bnumber_of_rooms_to%5D=3&ps%5Bwith_price%5D=1\"\n",
    "links = []\n",
    "adresses = []\n",
    "prices = []\n",
    "cities = []\n",
    "districts = []\n",
    "streets = []\n",
    "meters_array = []\n",
    "room_numbers = []\n",
    "levels = []\n",
    "readed_prices_per_meter = []\n",
    "def scrap_single_page(morizon_url):\n",
    "    text_of_website = req.get(morizon_url).text\n",
    "    soup = BeautifulSoup(text_of_website)\n",
    "    flats_tiles = soup.find_all(\"div\", {\"class\", \"card__outer\"})\n",
    "    for flat in flats_tiles:\n",
    "        try:\n",
    "            flat_link = \"-\"\n",
    "            flat_link = flat.find(\"a\")[\"href\"]\n",
    "            \n",
    "            basic_location_data = flat.find(\"span\", {\"class\", \"HNFyvY\"}).text\n",
    "            city = \"-\"\n",
    "            city = basic_location_data.split(\"•\")[0].strip()\n",
    "            district = \"-\"\n",
    "            district = basic_location_data.split(\"•\")[1].strip()\n",
    "            street = \"-\"\n",
    "            street = flat.find(\"span\", {\"class\", \"na3ky-\"}).text\n",
    "            property_info_text = flat.find(\"div\", {\"class\", \"property-info\"}).text\n",
    "            readed_meters = 0\n",
    "            readed_meters = float(property_info_text.split()[0])\n",
    "            rooms = 0\n",
    "            rooms = int(property_info_text.split(\"•\")[1].replace(\" pokoje\", \"\"))\n",
    "            floor = 0\n",
    "            floor = property_info_text.split(\"•\")[2].replace(\"piętro \", \"\").replace(\"parter\", \"0\")\n",
    "            flat_price = 0\n",
    "            flat_price = int(flat.find(\"div\", {\"class\", \"Fzi-XT\"}).text.replace(\" \", \"\").replace(\"zł\", \"\"))\n",
    "            \n",
    "            prices.append(flat_price)\n",
    "            cities.append(city)\n",
    "            districts.append(district)\n",
    "            streets.append(street)\n",
    "            room_numbers.append(rooms)\n",
    "            meters_array.append(readed_meters)\n",
    "            levels.append(floor)\n",
    "            links.append(flat_link)\n",
    "        except:\n",
    "            print(\"Jednego z mieszkań nie udało się zbadać.\")\n",
    "\n",
    "def scrap_many_pages(starting_adress, max_page=1):\n",
    "    scrap_single_page(starting_adress)\n",
    "    if max_page > 1:\n",
    "        for i in range(2, max_page+1):\n",
    "            scrap_single_page(starting_adress + \"&page={}\".format(i))\n",
    "\n",
    "    returned_df = pd.DataFrame.from_dict({\"link\": links, \"City\": cities, \"District\": districts, \"Street\": streets, \"Meters\": meters_array, \"Floor\": levels, \"Rooms\": room_numbers, \"Price\": prices})\n",
    "    return returned_df\n",
    "readed_flats = scrap_many_pages(test_adress, 100)\n"
   ]
  },
  {
   "cell_type": "code",
   "execution_count": null,
   "id": "2a1eec02-fc2d-49e4-9c43-a0e4cc91ffe0",
   "metadata": {},
   "outputs": [],
   "source": [
    "folder_dir = r\"path_to_data_folder\"\n",
    "\n",
    "def write_df_with_timestamp(flats_df):\n",
    "    now = datetime.datetime.now()\n",
    "    timestamp = now.strftime(\"%d_%m_%Y_%H_%M\")\n",
    "    filename = f\"flats_{timestamp}.csv\"\n",
    "    flats_df.to_csv(os.path.join(folder_dir, filename))\n",
    "write_df_with_timestamp(readed_flats)"
   ]
  }
 ],
 "metadata": {
  "kernelspec": {
   "display_name": "Python 3 (ipykernel)",
   "language": "python",
   "name": "python3"
  },
  "language_info": {
   "codemirror_mode": {
    "name": "ipython",
    "version": 3
   },
   "file_extension": ".py",
   "mimetype": "text/x-python",
   "name": "python",
   "nbconvert_exporter": "python",
   "pygments_lexer": "ipython3",
   "version": "3.12.7"
  }
 },
 "nbformat": 4,
 "nbformat_minor": 5
}
